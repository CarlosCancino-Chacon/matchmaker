{
  "cells": [
    {
      "cell_type": "markdown",
      "metadata": {
        "colab_type": "text",
        "id": "view-in-github"
      },
      "source": [
        "<a href=\"https://colab.research.google.com/github/MaharshiYeluri01/SpeechRecognition/blob/master/Speech_recognition_5.ipynb\" target=\"_parent\"><img src=\"https://colab.research.google.com/assets/colab-badge.svg\" alt=\"Open In Colab\"/></a>"
      ]
    },
    {
      "cell_type": "code",
      "execution_count": 38,
      "metadata": {
        "colab": {},
        "colab_type": "code",
        "id": "yFsAl3qlwWSU"
      },
      "outputs": [],
      "source": [
        "import os\n",
        "from pathlib import Path\n",
        "\n",
        "import librosa\n",
        "import numpy as np\n",
        "from hmmlearn import hmm\n",
        "from librosa.feature import mfcc, chroma_stft"
      ]
    },
    {
      "cell_type": "code",
      "execution_count": 39,
      "metadata": {
        "colab": {},
        "colab_type": "code",
        "id": "qCA0TiHqwpra"
      },
      "outputs": [],
      "source": [
        "class HMMTrainer:\n",
        "    def __init__(self, model_name='GaussianHMM', n_components=4, cov_type='diag', n_iter=1000):\n",
        "        self.model_name = model_name\n",
        "        self.n_components = n_components\n",
        "        self.cov_type = cov_type\n",
        "        self.n_iter = n_iter\n",
        "        self.models = []\n",
        "\n",
        "        if self.model_name == 'GaussianHMM':\n",
        "            self.model = hmm.GaussianHMM(n_components=self.n_components, \n",
        "                    covariance_type=self.cov_type, n_iter=self.n_iter)\n",
        "        else:\n",
        "            raise TypeError('Invalid model type')\n",
        "\n",
        "    # X is a 2D numpy array where each row is 13D\n",
        "    def train(self, X):\n",
        "        np.seterr(all='ignore')\n",
        "        self.models.append(self.model.fit(X))\n",
        "\n",
        "    # Run the model on input data\n",
        "    def get_score(self, input_data):\n",
        "        return self.model.score(input_data)"
      ]
    },
    {
      "cell_type": "code",
      "execution_count": 40,
      "metadata": {
        "colab": {},
        "colab_type": "code",
        "id": "jveeEaD3wzCb"
      },
      "outputs": [],
      "source": [
        "input_folder = Path('~/Downloads/hmm-speech-recognition-0.1/audio').expanduser()"
      ]
    },
    {
      "cell_type": "code",
      "execution_count": 41,
      "metadata": {
        "colab": {
          "base_uri": "https://localhost:8080/",
          "height": 136
        },
        "colab_type": "code",
        "id": "jvb9BCkkx8T0",
        "outputId": "934216ab-7f06-4500-dda9-76ae2606892e"
      },
      "outputs": [
        {
          "name": "stdout",
          "output_type": "stream",
          "text": [
            "apple\n",
            ".DS_Store\n",
            "kiwi\n",
            "lime\n",
            "banana\n",
            "pineapple\n",
            "orange\n",
            "peach\n"
          ]
        }
      ],
      "source": [
        "for dirname in os.listdir(input_folder):\n",
        "    # Get the name of the subfolder \n",
        "    subfolder = os.path.join(input_folder, dirname)\n",
        "    #print(subfolder)\n",
        "    label = subfolder[subfolder.rfind('/') + 1:]\n",
        "    print(label)"
      ]
    },
    {
      "cell_type": "code",
      "execution_count": 42,
      "metadata": {
        "colab": {
          "base_uri": "https://localhost:8080/",
          "height": 136
        },
        "colab_type": "code",
        "id": "rgSYHrAEU0Dt",
        "outputId": "7240fe5c-e679-4282-a0e1-9219ae826ca5"
      },
      "outputs": [
        {
          "name": "stdout",
          "output_type": "stream",
          "text": [
            "X.shape = (280, 15)\n",
            "X.shape = (280, 15)\n",
            "X.shape = (280, 15)\n",
            "X.shape = (280, 15)\n",
            "X.shape = (280, 15)\n",
            "X.shape = (280, 15)\n",
            "X.shape = (280, 15)\n"
          ]
        }
      ],
      "source": [
        "hmm_models = []\n",
        "for dirname in os.listdir(input_folder):\n",
        "    subfolder = os.path.join(input_folder, dirname)\n",
        "    if not os.path.isdir(subfolder): \n",
        "         continue\n",
        "    label = subfolder[subfolder.rfind('/') + 1:]\n",
        "    X = np.array([])\n",
        "    y_words = []\n",
        "    for filename in [x for x in os.listdir(subfolder) if x.endswith('.wav')][:-1]:\n",
        "        filepath = os.path.join(subfolder, filename)\n",
        "        y, sr = librosa.load(filepath)            \n",
        "        mfcc_features = mfcc(y=y, sr=sr)\n",
        "        if len(X) == 0:\n",
        "            X = mfcc_features[:,:15]\n",
        "        else:\n",
        "            X = np.append(X, mfcc_features[:,:15], axis=0)            \n",
        "        y_words.append(label)\n",
        "    print('X.shape =', X.shape)\n",
        "    hmm_trainer = HMMTrainer()\n",
        "    hmm_trainer.train(X)\n",
        "    hmm_models.append((hmm_trainer, label))\n",
        "    hmm_trainer = None"
      ]
    },
    {
      "cell_type": "code",
      "execution_count": 43,
      "metadata": {
        "colab": {},
        "colab_type": "code",
        "id": "cYlkBmbm5tS3"
      },
      "outputs": [],
      "source": [
        "# Test files\n",
        "input_files = [\n",
        "    input_folder / 'apple' / 'apple15.wav',\n",
        "    input_folder / 'banana' / 'banana15.wav',\n",
        "    input_folder / 'kiwi' / 'kiwi15.wav',\n",
        "    input_folder / 'orange' / 'orange15.wav',\n",
        "    input_folder / 'pineapple' / 'pineapple15.wav',\n",
        "    input_folder / 'lime' / 'lime15.wav',\n",
        "    input_folder / 'peach' / 'peach15.wav',\n",
        "]"
      ]
    },
    {
      "cell_type": "code",
      "execution_count": 44,
      "metadata": {
        "colab": {
          "base_uri": "https://localhost:8080/",
          "height": 255
        },
        "colab_type": "code",
        "id": "lGHJEP5aUdfs",
        "outputId": "70dd9edd-a03c-4640-c46d-f9fee84f4456"
      },
      "outputs": [
        {
          "name": "stdout",
          "output_type": "stream",
          "text": [
            "\n",
            "True: apple\n",
            "Predicted: apple\n",
            "\n",
            "True: banana\n",
            "Predicted: banana\n",
            "\n",
            "True: kiwi\n",
            "Predicted: kiwi\n",
            "\n",
            "True: orange\n",
            "Predicted: orange\n",
            "\n",
            "True: pineapple\n",
            "Predicted: pineapple\n",
            "\n",
            "True: lime\n",
            "Predicted: lime\n",
            "\n",
            "True: peach\n",
            "Predicted: peach\n"
          ]
        }
      ],
      "source": [
        "for input_file in input_files:\n",
        "    y, sr = librosa.load(input_file)\n",
        "\n",
        "    # Extract MFCC features\n",
        "    mfcc_features = mfcc(y=y, sr=sr)\n",
        "    mfcc_features = mfcc_features[:, :15]\n",
        "\n",
        "    scores = []\n",
        "    for item in hmm_models:\n",
        "        hmm_model, label = item\n",
        "\n",
        "        score = hmm_model.get_score(mfcc_features)\n",
        "        scores.append(score)\n",
        "    index = np.array(scores).argmax()\n",
        "    print(\"\\nTrue:\", input_file.parts[-2])\n",
        "    print(\"Predicted:\", hmm_models[index][1])"
      ]
    }
  ],
  "metadata": {
    "colab": {
      "collapsed_sections": [],
      "include_colab_link": true,
      "name": "Speech_recognition_5.ipynb",
      "provenance": [],
      "version": "0.3.2"
    },
    "kernelspec": {
      "display_name": "Python 3",
      "name": "python3"
    },
    "language_info": {
      "codemirror_mode": {
        "name": "ipython",
        "version": 3
      },
      "file_extension": ".py",
      "mimetype": "text/x-python",
      "name": "python",
      "nbconvert_exporter": "python",
      "pygments_lexer": "ipython3",
      "version": "3.9.18"
    }
  },
  "nbformat": 4,
  "nbformat_minor": 0
}
